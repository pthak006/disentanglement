{
 "cells": [
  {
   "cell_type": "code",
   "execution_count": 1,
   "metadata": {
    "colab": {
     "base_uri": "https://localhost:8080/"
    },
    "id": "o_HACIxMBlMv",
    "outputId": "a266a5c4-b111-46e8-b71d-77b930d36ab0"
   },
   "outputs": [
    {
     "name": "stdout",
     "output_type": "stream",
     "text": [
      "Number of instances in the dataset: 2000\n",
      "Number of columns in the dataset: 50\n",
      "\n",
      "First 5 rows of the dataset:\n",
      "   blue_q0  red_q1  green_q2  purple_q3  q4  blue_q5  red_q6  green_q7  \\\n",
      "0        2       0         3          1   4        1       4         1   \n",
      "1        2       0         1          2   2        1       4         3   \n",
      "2        3       0         2          1   3        1       4         3   \n",
      "3        2       0         1          1   1        0       4         1   \n",
      "4        2       0         1          1   3        0       4         3   \n",
      "\n",
      "   purple_q8  q9  ...  blue_q40  red_q41  green_q42  purple_q43  q44  \\\n",
      "0          2   2  ...         3        3          3           2    3   \n",
      "1          3   1  ...         2        3          2           2    3   \n",
      "2          3   0  ...         4        4          2           1    4   \n",
      "3          3   1  ...         1        2          2           1    3   \n",
      "4          2   0  ...         3        4          1           3    4   \n",
      "\n",
      "   blue_q45  red_q46  green_q47  purple_q48  q49  \n",
      "0         1        4          4           2    4  \n",
      "1         1        3          2           2    3  \n",
      "2         2        4          2           0    4  \n",
      "3         1        3          2           1    2  \n",
      "4         1        3          1           3    4  \n",
      "\n",
      "[5 rows x 50 columns]\n",
      "\n",
      "Data Types and Non-Null Counts:\n",
      "<class 'pandas.core.frame.DataFrame'>\n",
      "RangeIndex: 2000 entries, 0 to 1999\n",
      "Data columns (total 50 columns):\n",
      " #   Column      Non-Null Count  Dtype\n",
      "---  ------      --------------  -----\n",
      " 0   blue_q0     2000 non-null   int64\n",
      " 1   red_q1      2000 non-null   int64\n",
      " 2   green_q2    2000 non-null   int64\n",
      " 3   purple_q3   2000 non-null   int64\n",
      " 4   q4          2000 non-null   int64\n",
      " 5   blue_q5     2000 non-null   int64\n",
      " 6   red_q6      2000 non-null   int64\n",
      " 7   green_q7    2000 non-null   int64\n",
      " 8   purple_q8   2000 non-null   int64\n",
      " 9   q9          2000 non-null   int64\n",
      " 10  blue_q10    2000 non-null   int64\n",
      " 11  red_q11     2000 non-null   int64\n",
      " 12  green_q12   2000 non-null   int64\n",
      " 13  purple_q13  2000 non-null   int64\n",
      " 14  q14         2000 non-null   int64\n",
      " 15  blue_q15    2000 non-null   int64\n",
      " 16  red_q16     2000 non-null   int64\n",
      " 17  green_q17   2000 non-null   int64\n",
      " 18  purple_q18  2000 non-null   int64\n",
      " 19  q19         2000 non-null   int64\n",
      " 20  blue_q20    2000 non-null   int64\n",
      " 21  red_q21     2000 non-null   int64\n",
      " 22  green_q22   2000 non-null   int64\n",
      " 23  purple_q23  2000 non-null   int64\n",
      " 24  q24         2000 non-null   int64\n",
      " 25  blue_q25    2000 non-null   int64\n",
      " 26  red_q26     2000 non-null   int64\n",
      " 27  green_q27   2000 non-null   int64\n",
      " 28  purple_q28  2000 non-null   int64\n",
      " 29  q29         2000 non-null   int64\n",
      " 30  blue_q30    2000 non-null   int64\n",
      " 31  red_q31     2000 non-null   int64\n",
      " 32  green_q32   2000 non-null   int64\n",
      " 33  purple_q33  2000 non-null   int64\n",
      " 34  q34         2000 non-null   int64\n",
      " 35  blue_q35    2000 non-null   int64\n",
      " 36  red_q36     2000 non-null   int64\n",
      " 37  green_q37   2000 non-null   int64\n",
      " 38  purple_q38  2000 non-null   int64\n",
      " 39  q39         2000 non-null   int64\n",
      " 40  blue_q40    2000 non-null   int64\n",
      " 41  red_q41     2000 non-null   int64\n",
      " 42  green_q42   2000 non-null   int64\n",
      " 43  purple_q43  2000 non-null   int64\n",
      " 44  q44         2000 non-null   int64\n",
      " 45  blue_q45    2000 non-null   int64\n",
      " 46  red_q46     2000 non-null   int64\n",
      " 47  green_q47   2000 non-null   int64\n",
      " 48  purple_q48  2000 non-null   int64\n",
      " 49  q49         2000 non-null   int64\n",
      "dtypes: int64(50)\n",
      "memory usage: 781.4 KB\n",
      "None\n"
     ]
    }
   ],
   "source": [
    "import pandas as pd\n",
    "\n",
    "# Load the dataset from the GitHub repository\n",
    "url = 'https://raw.githubusercontent.com/gregversteeg/LinearCorex/master/tests/data/test_big5.csv'\n",
    "df = pd.read_csv(url)\n",
    "\n",
    "# Display basic information about the dataset\n",
    "print(\"Number of instances in the dataset:\", df.shape[0])\n",
    "print(\"Number of columns in the dataset:\", df.shape[1])\n",
    "print(\"\\nFirst 5 rows of the dataset:\")\n",
    "print(df.head())\n",
    "\n",
    "# Display additional information\n",
    "print(\"\\nData Types and Non-Null Counts:\")\n",
    "print(df.info())"
   ]
  },
  {
   "cell_type": "code",
   "execution_count": 2,
   "metadata": {
    "colab": {
     "base_uri": "https://localhost:8080/"
    },
    "id": "81r2mDP3BzZ-",
    "outputId": "8faa8967-c63d-4230-c155-42b29b34e6d7"
   },
   "outputs": [
    {
     "name": "stdout",
     "output_type": "stream",
     "text": [
      "   Factor1  Factor2  Factor3  Factor4  Factor5\n",
      "0       20       21       21       22       28\n",
      "1       21       20       21       26       23\n",
      "2       23       20       17       22       25\n",
      "3       17       15       11       22       15\n",
      "4       20       14       24       23       24\n"
     ]
    }
   ],
   "source": [
    "# Identify column prefixes for each true factor\n",
    "factor_columns = {\n",
    "    'Factor1': [col for col in df.columns if col.startswith('blue')],\n",
    "    'Factor2': [col for col in df.columns if col.startswith('green')],\n",
    "    'Factor3': [col for col in df.columns if col.startswith('purple')],\n",
    "    'Factor4': [col for col in df.columns if col.startswith('red')],\n",
    "    'Factor5': [col for col in df.columns if col.startswith('q')]\n",
    "}\n",
    "\n",
    "# Calculate true factors by summing the respective columns\n",
    "true_factors = pd.DataFrame()\n",
    "for factor_name, columns in factor_columns.items():\n",
    "    true_factors[factor_name] = df[columns].sum(axis=1)\n",
    "\n",
    "# Display the first few rows of the calculated true factors\n",
    "print(true_factors.head())"
   ]
  },
  {
   "cell_type": "code",
   "execution_count": 3,
   "metadata": {
    "id": "yaO1N84CB7_U"
   },
   "outputs": [],
   "source": [
    "df = df / 4.0\n",
    "# print(df.head())"
   ]
  },
  {
   "cell_type": "code",
   "execution_count": 4,
   "metadata": {},
   "outputs": [
    {
     "name": "stdout",
     "output_type": "stream",
     "text": [
      "Training set shape: (1600, 50)\n",
      "Test set shape: (400, 50)\n"
     ]
    }
   ],
   "source": [
    "import pandas as pd\n",
    "from sklearn.model_selection import train_test_split\n",
    "\n",
    "# Split the data into features (X) and target (Y) if necessary.\n",
    "# In the case of autoencoder-like models, we do not have target Y, so we'll treat the whole dataset as X.\n",
    "X = df.values  # Convert the DataFrame into a NumPy array for model input\n",
    "\n",
    "# Split the dataset into training (80%) and testing sets (20%)\n",
    "X_train, X_test = train_test_split(X, test_size=0.2, random_state=42)\n",
    "\n",
    "# Output the shapes to verify\n",
    "print(\"Training set shape:\", X_train.shape)\n",
    "print(\"Test set shape:\", X_test.shape)"
   ]
  },
  {
   "cell_type": "code",
   "execution_count": 5,
   "metadata": {},
   "outputs": [
    {
     "name": "stdout",
     "output_type": "stream",
     "text": [
      "PCA MSE on training set: 0.04700458267249854\n",
      "PCA MSE on test set: 0.04556389134945837\n"
     ]
    }
   ],
   "source": [
    "from sklearn.decomposition import PCA\n",
    "from sklearn.metrics import mean_squared_error\n",
    "\n",
    "# Assuming X_train and X_test are your training and testing data from the Big Five dataset\n",
    "\n",
    "# Define the PCA model, with the number of components matching the desired dimension (same as your autoencoder output dimension)\n",
    "n_components = 5  # Set this based on your autoencoder's latent space dimensionality\n",
    "pca = PCA(n_components=n_components)\n",
    "\n",
    "# Fit PCA on the training data\n",
    "X_train_reduced = pca.fit_transform(X_train)\n",
    "\n",
    "# Reconstruct the data from the reduced components\n",
    "X_train_reconstructed = pca.inverse_transform(X_train_reduced)\n",
    "\n",
    "# Calculate the MSE on the training set\n",
    "mse_train_pca = mean_squared_error(X_train, X_train_reconstructed)\n",
    "print(f\"PCA MSE on training set: {mse_train_pca}\")\n",
    "\n",
    "# Do the same for the test data\n",
    "X_test_reduced = pca.transform(X_test)\n",
    "X_test_reconstructed = pca.inverse_transform(X_test_reduced)\n",
    "mse_test_pca = mean_squared_error(X_test, X_test_reconstructed)\n",
    "print(f\"PCA MSE on test set: {mse_test_pca}\")\n"
   ]
  },
  {
   "cell_type": "code",
   "execution_count": 6,
   "metadata": {},
   "outputs": [
    {
     "name": "stdout",
     "output_type": "stream",
     "text": [
      "FA MSE on training set: 0.048124038024241804\n",
      "FA MSE on test set: 0.04686598878562905\n"
     ]
    }
   ],
   "source": [
    "from sklearn.decomposition import FactorAnalysis\n",
    "from sklearn.metrics import mean_squared_error\n",
    "import numpy as np\n",
    "\n",
    "# Define the FA model, with the number of components matching the dimensionality of your autoencoder's latent space\n",
    "n_components = 5  # Use your autoencoder's latent dimension here\n",
    "fa = FactorAnalysis(n_components=n_components)\n",
    "\n",
    "# Fit FA on the training data\n",
    "X_train_reduced_fa = fa.fit_transform(X_train)\n",
    "\n",
    "# Manually reconstruct the data using the latent factors and the factor loadings\n",
    "X_train_reconstructed_fa = np.dot(X_train_reduced_fa, fa.components_) + np.mean(X_train, axis=0)\n",
    "\n",
    "# Calculate the MSE on the training set\n",
    "mse_train_fa = mean_squared_error(X_train, X_train_reconstructed_fa)\n",
    "print(f\"FA MSE on training set: {mse_train_fa}\")\n",
    "\n",
    "# Do the same for the test data\n",
    "X_test_reduced_fa = fa.transform(X_test)\n",
    "X_test_reconstructed_fa = np.dot(X_test_reduced_fa, fa.components_) + np.mean(X_train, axis=0)  # Use train mean for consistent reconstruction\n",
    "\n",
    "mse_test_fa = mean_squared_error(X_test, X_test_reconstructed_fa)\n",
    "print(f\"FA MSE on test set: {mse_test_fa}\")\n"
   ]
  },
  {
   "cell_type": "code",
   "execution_count": 7,
   "metadata": {
    "colab": {
     "base_uri": "https://localhost:8080/"
    },
    "id": "i6jA29S2CJQV",
    "outputId": "97c14234-90fb-43e0-944e-38113a3f8b9f"
   },
   "outputs": [
    {
     "name": "stdout",
     "output_type": "stream",
     "text": [
      "Data tensor shape: torch.Size([2000, 50])\n",
      "Number of training batches: 50\n",
      "Number of validation batches: 13\n"
     ]
    }
   ],
   "source": [
    "import torch\n",
    "from torch.utils.data import DataLoader, TensorDataset, random_split\n",
    "\n",
    "# Convert the DataFrame to a NumPy array\n",
    "data_array = df.to_numpy()\n",
    "\n",
    "# Convert the data to a PyTorch tensor\n",
    "data_tensor = torch.tensor(data_array, dtype=torch.float32)\n",
    "\n",
    "# Create a PyTorch dataset\n",
    "dataset = TensorDataset(data_tensor)\n",
    "\n",
    "# Split the dataset into training and validation sets (80-20 split)\n",
    "train_size = int(0.8 * len(dataset))\n",
    "val_size = len(dataset) - train_size\n",
    "train_dataset, val_dataset = random_split(dataset, [train_size, val_size])\n",
    "\n",
    "# Create DataLoaders for the training and validation sets\n",
    "batch_size = 32  # You can adjust the batch size as needed\n",
    "train_loader = DataLoader(train_dataset, batch_size=batch_size, shuffle=True)\n",
    "val_loader = DataLoader(val_dataset, batch_size=batch_size, shuffle=False)\n",
    "\n",
    "# Display the shape of the tensor to verify\n",
    "print(f\"Data tensor shape: {data_tensor.shape}\")\n",
    "print(f\"Number of training batches: {len(train_loader)}\")\n",
    "print(f\"Number of validation batches: {len(val_loader)}\")"
   ]
  },
  {
   "cell_type": "code",
   "execution_count": 8,
   "metadata": {
    "id": "rywEvDazCYkL"
   },
   "outputs": [],
   "source": [
    "# Import necessary libraries\n",
    "import torch\n",
    "import torch.nn as nn\n",
    "\n",
    "# Encoder class\n",
    "class Encoder(nn.Module):\n",
    "    def __init__(self, input_dim, output_dim, embedding_dim, hidden_dims=[]):\n",
    "        super(Encoder, self).__init__()\n",
    "        # Define the layers of the MLP\n",
    "        dims = [input_dim] + hidden_dims + [output_dim]\n",
    "        layers = []\n",
    "        for i in range(len(dims) - 1):\n",
    "            layers.append(nn.Linear(dims[i], dims[i + 1]))\n",
    "            if i < len(dims) - 2:\n",
    "                layers.append(nn.ReLU())\n",
    "        self.mlp = nn.Sequential(*layers)\n",
    "\n",
    "        # Learnable embedding vectors e_i for each z_i\n",
    "        self.e = nn.Parameter(torch.randn(output_dim, embedding_dim))\n",
    "        self.embedding_dim = embedding_dim\n",
    "        self.output_dim = output_dim\n",
    "\n",
    "    def forward(self, x):\n",
    "        # Pass the input through the MLP to get Z\n",
    "        Z = self.mlp(x)  # Shape: (batch_size, output_dim)\n",
    "\n",
    "        # Convert Z to \\hat Z by multiplying each scalar z_i with its own embedding vector e_i\n",
    "        batch_size = Z.size(0)\n",
    "        Z_expanded = Z.unsqueeze(2)                         # Shape: (batch_size, output_dim, 1)\n",
    "        e_expanded = self.e.unsqueeze(0)                    # Shape: (1, output_dim, embedding_dim)\n",
    "        hat_Z = Z_expanded * e_expanded                     # Shape: (batch_size, output_dim, embedding_dim)\n",
    "\n",
    "        return hat_Z\n"
   ]
  },
  {
   "cell_type": "code",
   "execution_count": 9,
   "metadata": {
    "id": "tUXzn0AHHq1T"
   },
   "outputs": [],
   "source": [
    "class Decoder(nn.Module):\n",
    "    def __init__(self, input_dim, embedding_dim, hidden_dims=[]):\n",
    "        super(Decoder, self).__init__()\n",
    "        self.input_dim = input_dim      # Number of observed variables (n)\n",
    "        self.embedding_dim = embedding_dim\n",
    "\n",
    "        # Learnable query embeddings (e1, e2, ..., en)\n",
    "        self.query_embeddings = nn.Parameter(torch.randn(input_dim, embedding_dim))\n",
    "\n",
    "        # MultiheadAttention module with 1 head\n",
    "        self.attention = nn.MultiheadAttention(embed_dim=embedding_dim, num_heads=1, batch_first=True)\n",
    "\n",
    "        # Layer normalization\n",
    "        self.layer_norm = nn.LayerNorm(embedding_dim)\n",
    "\n",
    "        # MLP to predict x_i's from embeddings\n",
    "        dims = [embedding_dim] + hidden_dims + [1]\n",
    "        layers = []\n",
    "        for i in range(len(dims) - 1):\n",
    "            layers.append(nn.Linear(dims[i], dims[i + 1]))\n",
    "            if i < len(dims) - 2:\n",
    "                layers.append(nn.ReLU())\n",
    "        self.mlp = nn.Sequential(*layers)\n",
    "\n",
    "    def forward(self, hat_Z):\n",
    "        \"\"\"\n",
    "        hat_Z: Tensor of shape (batch_size, output_dim, embedding_dim)\n",
    "        \"\"\"\n",
    "        batch_size = hat_Z.size(0)\n",
    "\n",
    "        # Prepare query embeddings and expand to batch size\n",
    "        query_embeddings = self.query_embeddings.unsqueeze(0).expand(batch_size, -1, -1)  # Shape: (batch_size, input_dim, embedding_dim)\n",
    "\n",
    "        # Apply scaled dot-product attention\n",
    "        attn_output, attn_weights = self.attention(query_embeddings, hat_Z, hat_Z)        # Output shape: (batch_size, input_dim, embedding_dim)\n",
    "\n",
    "        # Add residual connection and apply layer normalization\n",
    "        out = self.layer_norm(attn_output + query_embeddings)                             # Shape: (batch_size, input_dim, embedding_dim)\n",
    "\n",
    "        # Flatten the embeddings and pass through MLP to predict x_i's\n",
    "        out_flat = out.reshape(-1, self.embedding_dim)                                    # Shape: (batch_size * input_dim, embedding_dim)\n",
    "        x_hat_flat = self.mlp(out_flat)                                                   # Shape: (batch_size * input_dim, 1)\n",
    "        x_hat = x_hat_flat.view(batch_size, self.input_dim)                               # Shape: (batch_size, input_dim)\n",
    "\n",
    "        return x_hat, attn_weights  # Return attention weights\n"
   ]
  },
  {
   "cell_type": "code",
   "execution_count": 10,
   "metadata": {
    "id": "xnBqmgVjIat0"
   },
   "outputs": [],
   "source": [
    "# Complete model combining the encoder and decoder\n",
    "class Model(nn.Module):\n",
    "    def __init__(self, input_dim, output_dim, embedding_dim, encoder_hidden_dims=[], decoder_hidden_dims=[]):\n",
    "        super(Model, self).__init__()\n",
    "        self.encoder = Encoder(input_dim=input_dim, output_dim=output_dim, embedding_dim=embedding_dim, hidden_dims=encoder_hidden_dims)\n",
    "        self.decoder = Decoder(input_dim=input_dim, embedding_dim=embedding_dim, hidden_dims=decoder_hidden_dims)\n",
    "\n",
    "    def forward(self, x):\n",
    "        hat_Z = self.encoder(x)     # Obtain \\hat Z from the encoder\n",
    "        x_hat, attn_weights = self.decoder(hat_Z) # Reconstruct x from \\hat Z using the decoder\n",
    "        return x_hat, attn_weights"
   ]
  },
  {
   "cell_type": "code",
   "execution_count": 11,
   "metadata": {
    "colab": {
     "base_uri": "https://localhost:8080/"
    },
    "id": "Ki1licN-PTun",
    "outputId": "fb864687-79d0-4763-ec7f-18a71da1ed50"
   },
   "outputs": [
    {
     "name": "stdout",
     "output_type": "stream",
     "text": [
      "Epoch [1/70], Train Loss: 0.1169, Val Loss: 0.0894\n",
      "Epoch [2/70], Train Loss: 0.0865, Val Loss: 0.0813\n",
      "Epoch [3/70], Train Loss: 0.0749, Val Loss: 0.0721\n",
      "Epoch [4/70], Train Loss: 0.0692, Val Loss: 0.0675\n",
      "Epoch [5/70], Train Loss: 0.0635, Val Loss: 0.0628\n",
      "Epoch [6/70], Train Loss: 0.0606, Val Loss: 0.0616\n",
      "Epoch [7/70], Train Loss: 0.0590, Val Loss: 0.0594\n",
      "Epoch [8/70], Train Loss: 0.0579, Val Loss: 0.0587\n",
      "Epoch [9/70], Train Loss: 0.0567, Val Loss: 0.0577\n",
      "Epoch [10/70], Train Loss: 0.0559, Val Loss: 0.0572\n",
      "Epoch [11/70], Train Loss: 0.0554, Val Loss: 0.0566\n",
      "Epoch [12/70], Train Loss: 0.0547, Val Loss: 0.0560\n",
      "Epoch [13/70], Train Loss: 0.0544, Val Loss: 0.0557\n",
      "Epoch [14/70], Train Loss: 0.0537, Val Loss: 0.0552\n",
      "Epoch [15/70], Train Loss: 0.0534, Val Loss: 0.0546\n",
      "Epoch [16/70], Train Loss: 0.0529, Val Loss: 0.0547\n",
      "Epoch [17/70], Train Loss: 0.0525, Val Loss: 0.0542\n",
      "Epoch [18/70], Train Loss: 0.0521, Val Loss: 0.0536\n",
      "Epoch [19/70], Train Loss: 0.0518, Val Loss: 0.0533\n",
      "Epoch [20/70], Train Loss: 0.0514, Val Loss: 0.0530\n",
      "Epoch [21/70], Train Loss: 0.0512, Val Loss: 0.0532\n",
      "Epoch [22/70], Train Loss: 0.0513, Val Loss: 0.0525\n",
      "Epoch [23/70], Train Loss: 0.0507, Val Loss: 0.0518\n",
      "Epoch [24/70], Train Loss: 0.0503, Val Loss: 0.0520\n",
      "Epoch [25/70], Train Loss: 0.0504, Val Loss: 0.0522\n",
      "Epoch [26/70], Train Loss: 0.0500, Val Loss: 0.0515\n",
      "Epoch [27/70], Train Loss: 0.0498, Val Loss: 0.0516\n",
      "Epoch [28/70], Train Loss: 0.0498, Val Loss: 0.0518\n",
      "Epoch [29/70], Train Loss: 0.0497, Val Loss: 0.0514\n",
      "Epoch [30/70], Train Loss: 0.0495, Val Loss: 0.0516\n",
      "Epoch [31/70], Train Loss: 0.0494, Val Loss: 0.0519\n",
      "Epoch [32/70], Train Loss: 0.0494, Val Loss: 0.0514\n",
      "Epoch [33/70], Train Loss: 0.0492, Val Loss: 0.0517\n",
      "Epoch [34/70], Train Loss: 0.0490, Val Loss: 0.0515\n",
      "Epoch [35/70], Train Loss: 0.0493, Val Loss: 0.0512\n",
      "Epoch [36/70], Train Loss: 0.0491, Val Loss: 0.0510\n",
      "Epoch [37/70], Train Loss: 0.0490, Val Loss: 0.0510\n",
      "Epoch [38/70], Train Loss: 0.0490, Val Loss: 0.0510\n",
      "Epoch [39/70], Train Loss: 0.0488, Val Loss: 0.0511\n",
      "Epoch [40/70], Train Loss: 0.0486, Val Loss: 0.0508\n",
      "Epoch [41/70], Train Loss: 0.0486, Val Loss: 0.0509\n",
      "Epoch [42/70], Train Loss: 0.0487, Val Loss: 0.0510\n",
      "Epoch [43/70], Train Loss: 0.0485, Val Loss: 0.0506\n",
      "Epoch [44/70], Train Loss: 0.0484, Val Loss: 0.0509\n",
      "Epoch [45/70], Train Loss: 0.0485, Val Loss: 0.0510\n",
      "Epoch [46/70], Train Loss: 0.0483, Val Loss: 0.0508\n",
      "Epoch [47/70], Train Loss: 0.0482, Val Loss: 0.0505\n",
      "Epoch [48/70], Train Loss: 0.0483, Val Loss: 0.0507\n",
      "Epoch [49/70], Train Loss: 0.0483, Val Loss: 0.0507\n",
      "Epoch [50/70], Train Loss: 0.0482, Val Loss: 0.0509\n",
      "Epoch [51/70], Train Loss: 0.0480, Val Loss: 0.0505\n",
      "Epoch [52/70], Train Loss: 0.0480, Val Loss: 0.0507\n",
      "Epoch [53/70], Train Loss: 0.0481, Val Loss: 0.0508\n",
      "Epoch [54/70], Train Loss: 0.0480, Val Loss: 0.0510\n",
      "Epoch [55/70], Train Loss: 0.0479, Val Loss: 0.0513\n",
      "Epoch [56/70], Train Loss: 0.0480, Val Loss: 0.0506\n",
      "Epoch [57/70], Train Loss: 0.0480, Val Loss: 0.0507\n",
      "Epoch [58/70], Train Loss: 0.0480, Val Loss: 0.0509\n",
      "Epoch [59/70], Train Loss: 0.0477, Val Loss: 0.0502\n",
      "Epoch [60/70], Train Loss: 0.0475, Val Loss: 0.0503\n",
      "Epoch [61/70], Train Loss: 0.0476, Val Loss: 0.0509\n",
      "Epoch [62/70], Train Loss: 0.0476, Val Loss: 0.0505\n",
      "Epoch [63/70], Train Loss: 0.0476, Val Loss: 0.0506\n",
      "Epoch [64/70], Train Loss: 0.0474, Val Loss: 0.0507\n",
      "Epoch [65/70], Train Loss: 0.0475, Val Loss: 0.0501\n",
      "Epoch [66/70], Train Loss: 0.0473, Val Loss: 0.0503\n",
      "Epoch [67/70], Train Loss: 0.0473, Val Loss: 0.0507\n",
      "Epoch [68/70], Train Loss: 0.0474, Val Loss: 0.0503\n",
      "Epoch [69/70], Train Loss: 0.0472, Val Loss: 0.0504\n",
      "Epoch [70/70], Train Loss: 0.0473, Val Loss: 0.0503\n",
      "Training complete and model saved.\n"
     ]
    }
   ],
   "source": [
    "import os\n",
    "import torch\n",
    "import torch.nn as nn\n",
    "from torch.utils.data import DataLoader, TensorDataset\n",
    "\n",
    "\n",
    "# Assume that the Encoder, Decoder, and Model classes are already defined\n",
    "\n",
    "# Define dimensions\n",
    "input_dim = 50        # Number of observed variables (same as the number of x_i's in the dataset)\n",
    "output_dim = 5        # Output dimension of the encoder (dimension of Z)\n",
    "embedding_dim = 64    # Embedding dimension for the embeddings e and e_i's\n",
    "encoder_hidden_dims = [128, 64]  # Hidden dimensions for the encoder\n",
    "decoder_hidden_dims = [64, 32]   # Hidden dimensions for the decoder\n",
    "\n",
    "# Instantiate the model\n",
    "model = Model(\n",
    "    input_dim=input_dim,\n",
    "    output_dim=output_dim,\n",
    "    embedding_dim=embedding_dim,\n",
    "    encoder_hidden_dims=encoder_hidden_dims,\n",
    "    decoder_hidden_dims=decoder_hidden_dims\n",
    ")\n",
    "\n",
    "# Move the model to the appropriate device (GPU if available)\n",
    "device = torch.device(\"cuda\" if torch.cuda.is_available() else \"cpu\")\n",
    "model.to(device)\n",
    "\n",
    "# Loss function and optimizer\n",
    "criterion = nn.MSELoss()  # Mean Squared Error Loss for reconstruction\n",
    "optimizer = torch.optim.Adam(model.parameters(), lr=0.001)\n",
    "\n",
    "# Training parameters\n",
    "num_epochs = 70           # Number of epochs\n",
    "batch_size = 32             # Batch size (already set in the DataLoader)\n",
    "print_every = 1           # How often to print loss (in epochs)\n",
    "\n",
    "\n",
    "model_path = \"trained_model.pth\"\n",
    "if os.path.exists(model_path):\n",
    "    print(\"Trained model found. Loading the model.\")\n",
    "    model.load_state_dict(torch.load(model_path))\n",
    "    print(\"Model loaded successfully!\")\n",
    "\n",
    "# Training loop with validation\n",
    "for epoch in range(num_epochs):\n",
    "    # Training phase\n",
    "    model.train()\n",
    "    running_loss = 0.0\n",
    "    for batch_idx, (batch,) in enumerate(train_loader):  # Use train_loader for training\n",
    "        batch = batch.to(device)  # Move batch to device\n",
    "\n",
    "        # Zero the parameter gradients\n",
    "        optimizer.zero_grad()\n",
    "\n",
    "        # Forward pass: Compute predicted x_hat by passing input x through the model\n",
    "        x_hat, _ = model(batch)\n",
    "\n",
    "        # Compute the loss\n",
    "        loss = criterion(x_hat, batch)\n",
    "\n",
    "        # Backward pass: Compute the gradients\n",
    "        loss.backward()\n",
    "\n",
    "        # Optimize the parameters\n",
    "        optimizer.step()\n",
    "\n",
    "        # Accumulate training loss\n",
    "        running_loss += loss.item()\n",
    "\n",
    "    avg_train_loss = running_loss / len(train_loader)\n",
    "\n",
    "   # Validation phase\n",
    "    model.eval()  # Set the model to evaluation mode\n",
    "    val_loss = 0.0\n",
    "    with torch.no_grad():  # Disable gradient computation for validation\n",
    "        for batch_idx, (batch,) in enumerate(val_loader):  # Use val_loader for validation\n",
    "            batch = batch.to(device)  # Move batch to device\n",
    "    \n",
    "            # Forward pass for validation\n",
    "            x_hat, _ = model(batch)  # Unpack the outputs\n",
    "    \n",
    "            # Compute the loss for validation\n",
    "            loss = criterion(x_hat, batch)\n",
    "    \n",
    "            # Accumulate validation loss\n",
    "            val_loss += loss.item()\n",
    "\n",
    "\n",
    "    avg_val_loss = val_loss / len(val_loader)\n",
    "\n",
    "    # Print average losses for the epoch\n",
    "    if (epoch + 1) % print_every == 0:\n",
    "        print(f'Epoch [{epoch + 1}/{num_epochs}], '\n",
    "              f'Train Loss: {avg_train_loss:.4f}, Val Loss: {avg_val_loss:.4f}')\n",
    "\n",
    "# Example save the trained model after training\n",
    "torch.save(model.state_dict(), \"trained_model.pth\")\n",
    "print(\"Training complete and model saved.\")"
   ]
  },
  {
   "cell_type": "code",
   "execution_count": 13,
   "metadata": {},
   "outputs": [
    {
     "name": "stdout",
     "output_type": "stream",
     "text": [
      "Collecting matplotlib\n",
      "  Downloading matplotlib-3.9.2-cp310-cp310-manylinux_2_17_x86_64.manylinux2014_x86_64.whl.metadata (11 kB)\n",
      "Collecting contourpy>=1.0.1 (from matplotlib)\n",
      "  Downloading contourpy-1.3.0-cp310-cp310-manylinux_2_17_x86_64.manylinux2014_x86_64.whl.metadata (5.4 kB)\n",
      "Collecting cycler>=0.10 (from matplotlib)\n",
      "  Downloading cycler-0.12.1-py3-none-any.whl.metadata (3.8 kB)\n",
      "Collecting fonttools>=4.22.0 (from matplotlib)\n",
      "  Downloading fonttools-4.54.1-cp310-cp310-manylinux_2_17_x86_64.manylinux2014_x86_64.whl.metadata (163 kB)\n",
      "Collecting kiwisolver>=1.3.1 (from matplotlib)\n",
      "  Downloading kiwisolver-1.4.7-cp310-cp310-manylinux_2_12_x86_64.manylinux2010_x86_64.whl.metadata (6.3 kB)\n",
      "Requirement already satisfied: numpy>=1.23 in /root/miniconda3/envs/parthaenv/lib/python3.10/site-packages (from matplotlib) (2.1.2)\n",
      "Requirement already satisfied: packaging>=20.0 in /root/miniconda3/envs/parthaenv/lib/python3.10/site-packages (from matplotlib) (24.1)\n",
      "Requirement already satisfied: pillow>=8 in /root/miniconda3/envs/parthaenv/lib/python3.10/site-packages (from matplotlib) (11.0.0)\n",
      "Collecting pyparsing>=2.3.1 (from matplotlib)\n",
      "  Downloading pyparsing-3.2.0-py3-none-any.whl.metadata (5.0 kB)\n",
      "Requirement already satisfied: python-dateutil>=2.7 in /root/miniconda3/envs/parthaenv/lib/python3.10/site-packages (from matplotlib) (2.9.0.post0)\n",
      "Requirement already satisfied: six>=1.5 in /root/miniconda3/envs/parthaenv/lib/python3.10/site-packages (from python-dateutil>=2.7->matplotlib) (1.16.0)\n",
      "Downloading matplotlib-3.9.2-cp310-cp310-manylinux_2_17_x86_64.manylinux2014_x86_64.whl (8.3 MB)\n",
      "\u001b[2K   \u001b[38;2;114;156;31m━━━━━━━━━━━━━━━━━━━━━━━━━━━━━━━━━━━━━━━━\u001b[0m \u001b[32m8.3/8.3 MB\u001b[0m \u001b[31m227.3 MB/s\u001b[0m eta \u001b[36m0:00:00\u001b[0m\n",
      "\u001b[?25hDownloading contourpy-1.3.0-cp310-cp310-manylinux_2_17_x86_64.manylinux2014_x86_64.whl (322 kB)\n",
      "Downloading cycler-0.12.1-py3-none-any.whl (8.3 kB)\n",
      "Downloading fonttools-4.54.1-cp310-cp310-manylinux_2_17_x86_64.manylinux2014_x86_64.whl (4.6 MB)\n",
      "\u001b[2K   \u001b[38;2;114;156;31m━━━━━━━━━━━━━━━━━━━━━━━━━━━━━━━━━━━━━━━━\u001b[0m \u001b[32m4.6/4.6 MB\u001b[0m \u001b[31m223.2 MB/s\u001b[0m eta \u001b[36m0:00:00\u001b[0m\n",
      "\u001b[?25hDownloading kiwisolver-1.4.7-cp310-cp310-manylinux_2_12_x86_64.manylinux2010_x86_64.whl (1.6 MB)\n",
      "\u001b[2K   \u001b[38;2;114;156;31m━━━━━━━━━━━━━━━━━━━━━━━━━━━━━━━━━━━━━━━━\u001b[0m \u001b[32m1.6/1.6 MB\u001b[0m \u001b[31m260.8 MB/s\u001b[0m eta \u001b[36m0:00:00\u001b[0m\n",
      "\u001b[?25hDownloading pyparsing-3.2.0-py3-none-any.whl (106 kB)\n",
      "Installing collected packages: pyparsing, kiwisolver, fonttools, cycler, contourpy, matplotlib\n",
      "Successfully installed contourpy-1.3.0 cycler-0.12.1 fonttools-4.54.1 kiwisolver-1.4.7 matplotlib-3.9.2 pyparsing-3.2.0\n",
      "\u001b[33mWARNING: Running pip as the 'root' user can result in broken permissions and conflicting behaviour with the system package manager, possibly rendering your system unusable.It is recommended to use a virtual environment instead: https://pip.pypa.io/warnings/venv. Use the --root-user-action option if you know what you are doing and want to suppress this warning.\u001b[0m\u001b[33m\n",
      "\u001b[0m"
     ]
    }
   ],
   "source": [
    "!pip install matplotlib"
   ]
  },
  {
   "cell_type": "code",
   "execution_count": 14,
   "metadata": {
    "id": "hoBeOpJnYZhC"
   },
   "outputs": [],
   "source": [
    "import torch\n",
    "import torch.nn as nn\n",
    "import matplotlib.pyplot as plt\n",
    "import numpy as np\n",
    "\n",
    "# Function to compute average attention matrix\n",
    "def compute_average_attention(model, dataloader, device):\n",
    "    model.eval()  # Ensure model is in evaluation mode\n",
    "    total_attn = None\n",
    "    num_batches = 0\n",
    "\n",
    "    with torch.no_grad():\n",
    "        for data in dataloader:\n",
    "            # Assuming data is a tuple (inputs, labels), adjust as needed\n",
    "            inputs = data[0].to(device)\n",
    "\n",
    "            # Forward pass up to obtaining attention weights\n",
    "            hat_Z = model.encoder(inputs)\n",
    "            _, attn_weights = model.decoder(hat_Z)\n",
    "\n",
    "            # attn_weights shape: (batch_size, input_dim, output_dim)\n",
    "            # Sum attention weights over batches\n",
    "            if total_attn is None:\n",
    "                total_attn = attn_weights.sum(dim=0)  # Sum over batch dimension\n",
    "            else:\n",
    "                total_attn += attn_weights.sum(dim=0)\n",
    "            num_batches += attn_weights.size(0)  # Accumulate total number of samples\n",
    "\n",
    "    # Average the attention weights\n",
    "    avg_attn = total_attn / num_batches\n",
    "\n",
    "    return avg_attn.cpu().numpy()\n"
   ]
  },
  {
   "cell_type": "code",
   "execution_count": 15,
   "metadata": {},
   "outputs": [],
   "source": [
    "# Assuming you have your dataloaders defined as train_loader and val_loader\n",
    "device = torch.device('cuda' if torch.cuda.is_available() else 'cpu')\n",
    "model.to(device)\n",
    "\n",
    "# Compute average attention matrices\n",
    "avg_attn_train = compute_average_attention(model, train_loader, device)\n",
    "avg_attn_val = compute_average_attention(model, val_loader, device)\n"
   ]
  },
  {
   "cell_type": "code",
   "execution_count": 16,
   "metadata": {},
   "outputs": [],
   "source": [
    "# Assuming 'df' is your original dataframe\n",
    "\n",
    "# Identify column prefixes for each true factor\n",
    "factor_columns = {\n",
    "    'Factor1': [col for col in df.columns if col.startswith('blue')],\n",
    "    'Factor2': [col for col in df.columns if col.startswith('green')],\n",
    "    'Factor3': [col for col in df.columns if col.startswith('purple')],\n",
    "    'Factor4': [col for col in df.columns if col.startswith('red')],\n",
    "    'Factor5': [col for col in df.columns if col.startswith('q')]\n",
    "}\n",
    "\n",
    "# Map factor names to column indices\n",
    "factor_indices = {}\n",
    "for factor_name, columns in factor_columns.items():\n",
    "    indices = [df.columns.get_loc(col) for col in columns]\n",
    "    factor_indices[factor_name] = indices\n",
    "\n",
    "# Create a new ordering of indices\n",
    "new_order = []\n",
    "for factor_name in factor_columns.keys():\n",
    "    new_order.extend(factor_indices[factor_name])\n",
    "\n",
    "# Ensure all indices are included\n",
    "assert len(new_order) == df.shape[1], \"Not all indices are included in the new order.\"\n"
   ]
  },
  {
   "cell_type": "code",
   "execution_count": 19,
   "metadata": {},
   "outputs": [],
   "source": [
    "# Rearrange the average attention matrices by only rearranging the rows\n",
    "avg_attn_train_reordered = avg_attn_train[new_order, :]\n",
    "avg_attn_val_reordered = avg_attn_val[new_order, :]\n"
   ]
  },
  {
   "cell_type": "code",
   "execution_count": 18,
   "metadata": {},
   "outputs": [
    {
     "name": "stdout",
     "output_type": "stream",
     "text": [
      "Collecting seaborn\n",
      "  Downloading seaborn-0.13.2-py3-none-any.whl.metadata (5.4 kB)\n",
      "Requirement already satisfied: numpy!=1.24.0,>=1.20 in /root/miniconda3/envs/parthaenv/lib/python3.10/site-packages (from seaborn) (2.1.2)\n",
      "Requirement already satisfied: pandas>=1.2 in /root/miniconda3/envs/parthaenv/lib/python3.10/site-packages (from seaborn) (2.2.3)\n",
      "Requirement already satisfied: matplotlib!=3.6.1,>=3.4 in /root/miniconda3/envs/parthaenv/lib/python3.10/site-packages (from seaborn) (3.9.2)\n",
      "Requirement already satisfied: contourpy>=1.0.1 in /root/miniconda3/envs/parthaenv/lib/python3.10/site-packages (from matplotlib!=3.6.1,>=3.4->seaborn) (1.3.0)\n",
      "Requirement already satisfied: cycler>=0.10 in /root/miniconda3/envs/parthaenv/lib/python3.10/site-packages (from matplotlib!=3.6.1,>=3.4->seaborn) (0.12.1)\n",
      "Requirement already satisfied: fonttools>=4.22.0 in /root/miniconda3/envs/parthaenv/lib/python3.10/site-packages (from matplotlib!=3.6.1,>=3.4->seaborn) (4.54.1)\n",
      "Requirement already satisfied: kiwisolver>=1.3.1 in /root/miniconda3/envs/parthaenv/lib/python3.10/site-packages (from matplotlib!=3.6.1,>=3.4->seaborn) (1.4.7)\n",
      "Requirement already satisfied: packaging>=20.0 in /root/miniconda3/envs/parthaenv/lib/python3.10/site-packages (from matplotlib!=3.6.1,>=3.4->seaborn) (24.1)\n",
      "Requirement already satisfied: pillow>=8 in /root/miniconda3/envs/parthaenv/lib/python3.10/site-packages (from matplotlib!=3.6.1,>=3.4->seaborn) (11.0.0)\n",
      "Requirement already satisfied: pyparsing>=2.3.1 in /root/miniconda3/envs/parthaenv/lib/python3.10/site-packages (from matplotlib!=3.6.1,>=3.4->seaborn) (3.2.0)\n",
      "Requirement already satisfied: python-dateutil>=2.7 in /root/miniconda3/envs/parthaenv/lib/python3.10/site-packages (from matplotlib!=3.6.1,>=3.4->seaborn) (2.9.0.post0)\n",
      "Requirement already satisfied: pytz>=2020.1 in /root/miniconda3/envs/parthaenv/lib/python3.10/site-packages (from pandas>=1.2->seaborn) (2024.2)\n",
      "Requirement already satisfied: tzdata>=2022.7 in /root/miniconda3/envs/parthaenv/lib/python3.10/site-packages (from pandas>=1.2->seaborn) (2024.2)\n",
      "Requirement already satisfied: six>=1.5 in /root/miniconda3/envs/parthaenv/lib/python3.10/site-packages (from python-dateutil>=2.7->matplotlib!=3.6.1,>=3.4->seaborn) (1.16.0)\n",
      "Downloading seaborn-0.13.2-py3-none-any.whl (294 kB)\n",
      "Installing collected packages: seaborn\n",
      "Successfully installed seaborn-0.13.2\n",
      "\u001b[33mWARNING: Running pip as the 'root' user can result in broken permissions and conflicting behaviour with the system package manager, possibly rendering your system unusable.It is recommended to use a virtual environment instead: https://pip.pypa.io/warnings/venv. Use the --root-user-action option if you know what you are doing and want to suppress this warning.\u001b[0m\u001b[33m\n",
      "\u001b[0m"
     ]
    }
   ],
   "source": [
    "!pip install seaborn"
   ]
  },
  {
   "cell_type": "code",
   "execution_count": 20,
   "metadata": {},
   "outputs": [
    {
     "data": {
      "image/png": "[encoded data removed]",
      "text/plain": [
       "<Figure size 1000x800 with 2 Axes>"
      ]
     },
     "metadata": {},
     "output_type": "display_data"
    },
    {
     "data": {
      "image/png": "[encoded data removed]",
      "text/plain": [
       "<Figure size 1000x800 with 2 Axes>"
      ]
     },
     "metadata": {},
     "output_type": "display_data"
    }
   ],
   "source": [
    "import seaborn as sns\n",
    "\n",
    "# Function to plot the attention heatmap\n",
    "def plot_attention_heatmap(attn_matrix, title):\n",
    "    plt.figure(figsize=(10, 8))\n",
    "    sns.heatmap(attn_matrix, cmap='viridis')\n",
    "    plt.title(title)\n",
    "    plt.xlabel('Key Elements')\n",
    "    plt.ylabel('Query Elements')\n",
    "    plt.show()\n",
    "\n",
    "# Plot average attention matrices\n",
    "plot_attention_heatmap(avg_attn_train_reordered, 'Average Attention Matrix - Training Set')\n",
    "plot_attention_heatmap(avg_attn_val_reordered, 'Average Attention Matrix - Validation Set')\n"
   ]
  },
  {
   "cell_type": "code",
   "execution_count": null,
   "metadata": {},
   "outputs": [],
   "source": []
  }
 ],
 "metadata": {
  "accelerator": "GPU",
  "colab": {
   "gpuType": "T4",
   "machine_shape": "hm",
   "provenance": []
  },
  "kernelspec": {
   "display_name": "Python 3 (ipykernel)",
   "language": "python",
   "name": "python3"
  },
  "language_info": {
   "codemirror_mode": {
    "name": "ipython",
    "version": 3
   },
   "file_extension": ".py",
   "mimetype": "text/x-python",
   "name": "python",
   "nbconvert_exporter": "python",
   "pygments_lexer": "ipython3",
   "version": "3.10.15"
  }
 },
 "nbformat": 4,
 "nbformat_minor": 4
}

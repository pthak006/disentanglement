{
  "cells": [
    {
      "cell_type": "code",
      "execution_count": null,
      "metadata": {
        "colab": {
          "base_uri": "https://localhost:8080/"
        },
        "id": "o_HACIxMBlMv",
        "outputId": "775244b0-340b-4c15-eb54-5ca7ca056ce5"
      },
      "outputs": [
        {
          "output_type": "stream",
          "name": "stdout",
          "text": [
            "Number of instances in the dataset: 2000\n",
            "Number of columns in the dataset: 50\n",
            "\n",
            "First 5 rows of the dataset:\n",
            "   blue_q0  red_q1  green_q2  purple_q3  q4  blue_q5  red_q6  green_q7  \\\n",
            "0        2       0         3          1   4        1       4         1   \n",
            "1        2       0         1          2   2        1       4         3   \n",
            "2        3       0         2          1   3        1       4         3   \n",
            "3        2       0         1          1   1        0       4         1   \n",
            "4        2       0         1          1   3        0       4         3   \n",
            "\n",
            "   purple_q8  q9  ...  blue_q40  red_q41  green_q42  purple_q43  q44  \\\n",
            "0          2   2  ...         3        3          3           2    3   \n",
            "1          3   1  ...         2        3          2           2    3   \n",
            "2          3   0  ...         4        4          2           1    4   \n",
            "3          3   1  ...         1        2          2           1    3   \n",
            "4          2   0  ...         3        4          1           3    4   \n",
            "\n",
            "   blue_q45  red_q46  green_q47  purple_q48  q49  \n",
            "0         1        4          4           2    4  \n",
            "1         1        3          2           2    3  \n",
            "2         2        4          2           0    4  \n",
            "3         1        3          2           1    2  \n",
            "4         1        3          1           3    4  \n",
            "\n",
            "[5 rows x 50 columns]\n",
            "\n",
            "Data Types and Non-Null Counts:\n",
            "<class 'pandas.core.frame.DataFrame'>\n",
            "RangeIndex: 2000 entries, 0 to 1999\n",
            "Data columns (total 50 columns):\n",
            " #   Column      Non-Null Count  Dtype\n",
            "---  ------      --------------  -----\n",
            " 0   blue_q0     2000 non-null   int64\n",
            " 1   red_q1      2000 non-null   int64\n",
            " 2   green_q2    2000 non-null   int64\n",
            " 3   purple_q3   2000 non-null   int64\n",
            " 4   q4          2000 non-null   int64\n",
            " 5   blue_q5     2000 non-null   int64\n",
            " 6   red_q6      2000 non-null   int64\n",
            " 7   green_q7    2000 non-null   int64\n",
            " 8   purple_q8   2000 non-null   int64\n",
            " 9   q9          2000 non-null   int64\n",
            " 10  blue_q10    2000 non-null   int64\n",
            " 11  red_q11     2000 non-null   int64\n",
            " 12  green_q12   2000 non-null   int64\n",
            " 13  purple_q13  2000 non-null   int64\n",
            " 14  q14         2000 non-null   int64\n",
            " 15  blue_q15    2000 non-null   int64\n",
            " 16  red_q16     2000 non-null   int64\n",
            " 17  green_q17   2000 non-null   int64\n",
            " 18  purple_q18  2000 non-null   int64\n",
            " 19  q19         2000 non-null   int64\n",
            " 20  blue_q20    2000 non-null   int64\n",
            " 21  red_q21     2000 non-null   int64\n",
            " 22  green_q22   2000 non-null   int64\n",
            " 23  purple_q23  2000 non-null   int64\n",
            " 24  q24         2000 non-null   int64\n",
            " 25  blue_q25    2000 non-null   int64\n",
            " 26  red_q26     2000 non-null   int64\n",
            " 27  green_q27   2000 non-null   int64\n",
            " 28  purple_q28  2000 non-null   int64\n",
            " 29  q29         2000 non-null   int64\n",
            " 30  blue_q30    2000 non-null   int64\n",
            " 31  red_q31     2000 non-null   int64\n",
            " 32  green_q32   2000 non-null   int64\n",
            " 33  purple_q33  2000 non-null   int64\n",
            " 34  q34         2000 non-null   int64\n",
            " 35  blue_q35    2000 non-null   int64\n",
            " 36  red_q36     2000 non-null   int64\n",
            " 37  green_q37   2000 non-null   int64\n",
            " 38  purple_q38  2000 non-null   int64\n",
            " 39  q39         2000 non-null   int64\n",
            " 40  blue_q40    2000 non-null   int64\n",
            " 41  red_q41     2000 non-null   int64\n",
            " 42  green_q42   2000 non-null   int64\n",
            " 43  purple_q43  2000 non-null   int64\n",
            " 44  q44         2000 non-null   int64\n",
            " 45  blue_q45    2000 non-null   int64\n",
            " 46  red_q46     2000 non-null   int64\n",
            " 47  green_q47   2000 non-null   int64\n",
            " 48  purple_q48  2000 non-null   int64\n",
            " 49  q49         2000 non-null   int64\n",
            "dtypes: int64(50)\n",
            "memory usage: 781.4 KB\n",
            "None\n"
          ]
        }
      ],
      "source": [
        "import pandas as pd\n",
        "\n",
        "# Load the dataset from the GitHub repository\n",
        "url = 'https://raw.githubusercontent.com/gregversteeg/LinearCorex/master/tests/data/test_big5.csv'\n",
        "df = pd.read_csv(url)\n",
        "\n",
        "# Display basic information about the dataset\n",
        "print(\"Number of instances in the dataset:\", df.shape[0])\n",
        "print(\"Number of columns in the dataset:\", df.shape[1])\n",
        "print(\"\\nFirst 5 rows of the dataset:\")\n",
        "print(df.head())\n",
        "\n",
        "# Display additional information\n",
        "print(\"\\nData Types and Non-Null Counts:\")\n",
        "print(df.info())"
      ]
    },
    {
      "cell_type": "code",
      "execution_count": null,
      "metadata": {
        "id": "yaO1N84CB7_U"
      },
      "outputs": [],
      "source": [
        "df = df / 4.0\n",
        "# print(df.head())"
      ]
    },
    {
      "cell_type": "code",
      "execution_count": null,
      "metadata": {
        "colab": {
          "base_uri": "https://localhost:8080/"
        },
        "id": "X3uv65ntyBTp",
        "outputId": "b9feea4b-13a1-4b23-eb31-493ecd04fa5d"
      },
      "outputs": [
        {
          "output_type": "stream",
          "name": "stdout",
          "text": [
            "Training set shape: (1600, 50)\n",
            "Test set shape: (400, 50)\n"
          ]
        }
      ],
      "source": [
        "import pandas as pd\n",
        "from sklearn.model_selection import train_test_split\n",
        "\n",
        "# Split the data into features (X) and target (Y) if necessary.\n",
        "# In the case of autoencoder-like models, we do not have target Y, so we'll treat the whole dataset as X.\n",
        "X = df.values  # Convert the DataFrame into a NumPy array for model input\n",
        "\n",
        "# Split the dataset into training (80%) and testing sets (20%)\n",
        "X_train, X_test = train_test_split(X, test_size=0.2, random_state=42)\n",
        "\n",
        "# Output the shapes to verify\n",
        "print(\"Training set shape:\", X_train.shape)\n",
        "print(\"Test set shape:\", X_test.shape)"
      ]
    },
    {
      "cell_type": "code",
      "execution_count": null,
      "metadata": {
        "colab": {
          "base_uri": "https://localhost:8080/"
        },
        "id": "i6jA29S2CJQV",
        "outputId": "2d826d8d-2a15-493b-8f38-9b66ab995d33"
      },
      "outputs": [
        {
          "output_type": "stream",
          "name": "stdout",
          "text": [
            "Data tensor shape: torch.Size([2000, 50])\n",
            "Number of training batches: 50\n",
            "Number of validation batches: 13\n"
          ]
        }
      ],
      "source": [
        "import torch\n",
        "from torch.utils.data import DataLoader, TensorDataset, random_split\n",
        "\n",
        "# Convert the DataFrame to a NumPy array\n",
        "data_array = df.to_numpy()\n",
        "\n",
        "# Convert the data to a PyTorch tensor\n",
        "data_tensor = torch.tensor(data_array, dtype=torch.float32)\n",
        "\n",
        "# Create a PyTorch dataset\n",
        "dataset = TensorDataset(data_tensor)\n",
        "\n",
        "# Split the dataset into training and validation sets (80-20 split)\n",
        "train_size = int(0.8 * len(dataset))\n",
        "val_size = len(dataset) - train_size\n",
        "train_dataset, val_dataset = random_split(dataset, [train_size, val_size])\n",
        "\n",
        "# Create DataLoaders for the training and validation sets\n",
        "batch_size = 32  # You can adjust the batch size as needed\n",
        "train_loader = DataLoader(train_dataset, batch_size=batch_size, shuffle=True)\n",
        "val_loader = DataLoader(val_dataset, batch_size=batch_size, shuffle=False)\n",
        "\n",
        "# Display the shape of the tensor to verify\n",
        "print(f\"Data tensor shape: {data_tensor.shape}\")\n",
        "print(f\"Number of training batches: {len(train_loader)}\")\n",
        "print(f\"Number of validation batches: {len(val_loader)}\")"
      ]
    },
    {
      "cell_type": "code",
      "execution_count": null,
      "metadata": {
        "id": "wDRVrdnVyBTs"
      },
      "outputs": [],
      "source": [
        "import pandas as pd\n",
        "import numpy as np\n",
        "from sklearn.model_selection import train_test_split\n",
        "from sklearn.metrics import mean_squared_error, adjusted_rand_score\n",
        "import torch\n",
        "import torch.nn as nn\n",
        "import torch.optim as optim\n",
        "from torch.utils.data import DataLoader, TensorDataset\n",
        "\n",
        "class Autoencoder(nn.Module):\n",
        "    def __init__(self, input_dim, latent_dim, encoder_hidden_dims=[]):\n",
        "        super(Autoencoder, self).__init__()\n",
        "\n",
        "        # Build the encoder\n",
        "        encoder_dims = [input_dim] + encoder_hidden_dims + [latent_dim]\n",
        "        encoder_layers = []\n",
        "        for i in range(len(encoder_dims) - 1):\n",
        "            encoder_layers.append(nn.Linear(encoder_dims[i], encoder_dims[i + 1]))\n",
        "            if i < len(encoder_dims) - 2:\n",
        "                encoder_layers.append(nn.ReLU())  # Activation function between hidden layers\n",
        "        self.encoder = nn.Sequential(*encoder_layers)\n",
        "\n",
        "        # Decoder: Linear layer from latent_dim to input_dim\n",
        "        self.decoder = nn.Linear(latent_dim, input_dim)\n",
        "\n",
        "    def forward(self, x):\n",
        "        z = self.encoder(x)    # Latent representation\n",
        "        x_hat = self.decoder(z)  # Reconstructed input\n",
        "        return x_hat"
      ]
    },
    {
      "cell_type": "code",
      "source": [
        "input_dim = X_train.shape[1]  # Number of features (should be 50)\n",
        "latent_dim = 5\n",
        "encoder_hidden_dims = [256,128,64,32]                 # Number of latent variables (matching the known factors)\n",
        "\n",
        "# Instantiate the model\n",
        "model = Autoencoder(input_dim, latent_dim, encoder_hidden_dims)\n",
        "\n",
        "# Define the loss function (Mean Squared Error)\n",
        "criterion = nn.MSELoss()\n",
        "\n",
        "# Define the optimizer (Adam optimizer)\n",
        "optimizer = optim.Adam(model.parameters(), lr=0.01)\n"
      ],
      "metadata": {
        "id": "bR5ixtwV4FNC"
      },
      "execution_count": null,
      "outputs": []
    },
    {
      "cell_type": "code",
      "source": [
        "num_epochs = 100\n",
        "\n",
        "for epoch in range(num_epochs):\n",
        "    model.train()\n",
        "    train_loss = 0.0\n",
        "    for data in train_loader:\n",
        "        x = data[0]\n",
        "        optimizer.zero_grad()\n",
        "        x_hat = model(x)\n",
        "        loss = criterion(x_hat, x)\n",
        "        loss.backward()\n",
        "        optimizer.step()\n",
        "        train_loss += loss.item() * x.size(0)  # Accumulate loss\n",
        "\n",
        "    train_loss /= len(train_loader.dataset)\n",
        "\n",
        "    # Evaluate on test data\n",
        "    model.eval()\n",
        "    test_loss = 0.0\n",
        "    with torch.no_grad():\n",
        "        for data in val_loader:\n",
        "            x = data[0]\n",
        "            x_hat = model(x)\n",
        "            loss = criterion(x_hat, x)\n",
        "            test_loss += loss.item() * x.size(0)\n",
        "    test_loss /= len(val_loader.dataset)\n",
        "\n",
        "    print(f'Epoch [{epoch+1}/{num_epochs}], Train Loss: {train_loss:.6f}, Test Loss: {test_loss:.6f}')\n"
      ],
      "metadata": {
        "colab": {
          "base_uri": "https://localhost:8080/"
        },
        "id": "DgTQOFY84KnL",
        "outputId": "0f45602a-2416-46f3-d6a7-5e381ab7c757"
      },
      "execution_count": null,
      "outputs": [
        {
          "output_type": "stream",
          "name": "stdout",
          "text": [
            "Epoch [1/100], Train Loss: 0.186340, Test Loss: 0.088355\n",
            "Epoch [2/100], Train Loss: 0.087612, Test Loss: 0.086113\n",
            "Epoch [3/100], Train Loss: 0.086415, Test Loss: 0.084962\n",
            "Epoch [4/100], Train Loss: 0.081097, Test Loss: 0.074384\n",
            "Epoch [5/100], Train Loss: 0.070402, Test Loss: 0.064942\n",
            "Epoch [6/100], Train Loss: 0.063855, Test Loss: 0.062319\n",
            "Epoch [7/100], Train Loss: 0.062434, Test Loss: 0.060330\n",
            "Epoch [8/100], Train Loss: 0.061031, Test Loss: 0.060295\n",
            "Epoch [9/100], Train Loss: 0.060661, Test Loss: 0.059954\n",
            "Epoch [10/100], Train Loss: 0.060345, Test Loss: 0.059507\n",
            "Epoch [11/100], Train Loss: 0.060131, Test Loss: 0.060189\n",
            "Epoch [12/100], Train Loss: 0.059980, Test Loss: 0.059463\n",
            "Epoch [13/100], Train Loss: 0.059934, Test Loss: 0.059553\n",
            "Epoch [14/100], Train Loss: 0.060400, Test Loss: 0.057656\n",
            "Epoch [15/100], Train Loss: 0.056776, Test Loss: 0.054863\n",
            "Epoch [16/100], Train Loss: 0.054197, Test Loss: 0.053385\n",
            "Epoch [17/100], Train Loss: 0.053427, Test Loss: 0.052410\n",
            "Epoch [18/100], Train Loss: 0.053086, Test Loss: 0.052070\n",
            "Epoch [19/100], Train Loss: 0.052933, Test Loss: 0.052006\n",
            "Epoch [20/100], Train Loss: 0.052888, Test Loss: 0.052073\n",
            "Epoch [21/100], Train Loss: 0.052729, Test Loss: 0.052011\n",
            "Epoch [22/100], Train Loss: 0.052692, Test Loss: 0.052003\n",
            "Epoch [23/100], Train Loss: 0.052465, Test Loss: 0.051837\n",
            "Epoch [24/100], Train Loss: 0.052479, Test Loss: 0.051816\n",
            "Epoch [25/100], Train Loss: 0.052395, Test Loss: 0.051791\n",
            "Epoch [26/100], Train Loss: 0.052246, Test Loss: 0.051753\n",
            "Epoch [27/100], Train Loss: 0.052406, Test Loss: 0.051952\n",
            "Epoch [28/100], Train Loss: 0.052300, Test Loss: 0.051631\n",
            "Epoch [29/100], Train Loss: 0.052107, Test Loss: 0.051503\n",
            "Epoch [30/100], Train Loss: 0.051995, Test Loss: 0.051262\n",
            "Epoch [31/100], Train Loss: 0.051453, Test Loss: 0.051225\n",
            "Epoch [32/100], Train Loss: 0.051145, Test Loss: 0.050046\n",
            "Epoch [33/100], Train Loss: 0.050082, Test Loss: 0.049842\n",
            "Epoch [34/100], Train Loss: 0.048987, Test Loss: 0.048583\n",
            "Epoch [35/100], Train Loss: 0.048495, Test Loss: 0.047530\n",
            "Epoch [36/100], Train Loss: 0.047877, Test Loss: 0.048147\n",
            "Epoch [37/100], Train Loss: 0.047899, Test Loss: 0.046994\n",
            "Epoch [38/100], Train Loss: 0.047578, Test Loss: 0.047218\n",
            "Epoch [39/100], Train Loss: 0.047550, Test Loss: 0.047415\n",
            "Epoch [40/100], Train Loss: 0.047464, Test Loss: 0.047015\n",
            "Epoch [41/100], Train Loss: 0.047507, Test Loss: 0.047422\n",
            "Epoch [42/100], Train Loss: 0.047493, Test Loss: 0.046868\n",
            "Epoch [43/100], Train Loss: 0.047625, Test Loss: 0.047806\n",
            "Epoch [44/100], Train Loss: 0.047502, Test Loss: 0.046896\n",
            "Epoch [45/100], Train Loss: 0.047363, Test Loss: 0.046913\n",
            "Epoch [46/100], Train Loss: 0.047474, Test Loss: 0.047219\n",
            "Epoch [47/100], Train Loss: 0.047480, Test Loss: 0.047402\n",
            "Epoch [48/100], Train Loss: 0.047455, Test Loss: 0.047574\n",
            "Epoch [49/100], Train Loss: 0.047429, Test Loss: 0.046975\n",
            "Epoch [50/100], Train Loss: 0.047421, Test Loss: 0.047173\n",
            "Epoch [51/100], Train Loss: 0.047374, Test Loss: 0.047078\n",
            "Epoch [52/100], Train Loss: 0.047411, Test Loss: 0.047020\n",
            "Epoch [53/100], Train Loss: 0.047407, Test Loss: 0.047091\n",
            "Epoch [54/100], Train Loss: 0.047406, Test Loss: 0.047043\n",
            "Epoch [55/100], Train Loss: 0.047465, Test Loss: 0.047149\n",
            "Epoch [56/100], Train Loss: 0.047598, Test Loss: 0.046855\n",
            "Epoch [57/100], Train Loss: 0.047432, Test Loss: 0.046712\n",
            "Epoch [58/100], Train Loss: 0.047344, Test Loss: 0.047144\n",
            "Epoch [59/100], Train Loss: 0.047490, Test Loss: 0.047051\n",
            "Epoch [60/100], Train Loss: 0.047375, Test Loss: 0.047113\n",
            "Epoch [61/100], Train Loss: 0.047467, Test Loss: 0.046860\n",
            "Epoch [62/100], Train Loss: 0.047456, Test Loss: 0.047323\n",
            "Epoch [63/100], Train Loss: 0.047360, Test Loss: 0.046982\n",
            "Epoch [64/100], Train Loss: 0.047433, Test Loss: 0.047112\n",
            "Epoch [65/100], Train Loss: 0.047400, Test Loss: 0.047067\n",
            "Epoch [66/100], Train Loss: 0.047494, Test Loss: 0.047218\n",
            "Epoch [67/100], Train Loss: 0.047437, Test Loss: 0.047396\n",
            "Epoch [68/100], Train Loss: 0.047578, Test Loss: 0.047062\n",
            "Epoch [69/100], Train Loss: 0.047447, Test Loss: 0.047137\n",
            "Epoch [70/100], Train Loss: 0.047466, Test Loss: 0.046810\n",
            "Epoch [71/100], Train Loss: 0.047720, Test Loss: 0.047151\n",
            "Epoch [72/100], Train Loss: 0.047355, Test Loss: 0.047037\n",
            "Epoch [73/100], Train Loss: 0.047366, Test Loss: 0.047132\n",
            "Epoch [74/100], Train Loss: 0.047347, Test Loss: 0.046821\n",
            "Epoch [75/100], Train Loss: 0.047473, Test Loss: 0.046968\n",
            "Epoch [76/100], Train Loss: 0.047335, Test Loss: 0.046778\n",
            "Epoch [77/100], Train Loss: 0.047278, Test Loss: 0.046950\n",
            "Epoch [78/100], Train Loss: 0.047304, Test Loss: 0.046936\n",
            "Epoch [79/100], Train Loss: 0.047442, Test Loss: 0.047244\n",
            "Epoch [80/100], Train Loss: 0.047438, Test Loss: 0.046905\n",
            "Epoch [81/100], Train Loss: 0.047334, Test Loss: 0.046860\n",
            "Epoch [82/100], Train Loss: 0.047296, Test Loss: 0.046890\n",
            "Epoch [83/100], Train Loss: 0.047456, Test Loss: 0.046978\n",
            "Epoch [84/100], Train Loss: 0.047379, Test Loss: 0.046938\n",
            "Epoch [85/100], Train Loss: 0.047377, Test Loss: 0.046827\n",
            "Epoch [86/100], Train Loss: 0.047429, Test Loss: 0.047194\n",
            "Epoch [87/100], Train Loss: 0.047417, Test Loss: 0.047073\n",
            "Epoch [88/100], Train Loss: 0.047294, Test Loss: 0.046806\n",
            "Epoch [89/100], Train Loss: 0.047418, Test Loss: 0.047722\n",
            "Epoch [90/100], Train Loss: 0.047909, Test Loss: 0.047178\n",
            "Epoch [91/100], Train Loss: 0.047427, Test Loss: 0.046905\n",
            "Epoch [92/100], Train Loss: 0.047356, Test Loss: 0.047217\n",
            "Epoch [93/100], Train Loss: 0.047472, Test Loss: 0.047325\n",
            "Epoch [94/100], Train Loss: 0.047403, Test Loss: 0.047098\n",
            "Epoch [95/100], Train Loss: 0.047329, Test Loss: 0.046903\n",
            "Epoch [96/100], Train Loss: 0.047367, Test Loss: 0.046884\n",
            "Epoch [97/100], Train Loss: 0.047368, Test Loss: 0.046899\n",
            "Epoch [98/100], Train Loss: 0.047353, Test Loss: 0.047131\n",
            "Epoch [99/100], Train Loss: 0.047489, Test Loss: 0.046869\n",
            "Epoch [100/100], Train Loss: 0.047378, Test Loss: 0.046904\n"
          ]
        }
      ]
    },
    {
      "cell_type": "code",
      "source": [
        "# Extract the decoder weights\n",
        "decoder_weights = model.decoder.weight.data.numpy()  # Shape: (input_dim, latent_dim)\n",
        "\n",
        "# For each observed variable, find the latent variable with the highest absolute weight\n",
        "predicted_labels = np.argmax(np.abs(decoder_weights), axis=1)  # Shape: (input_dim,)\n",
        "\n",
        "# Identify column prefixes for each true factor\n",
        "factor_columns = {\n",
        "    'Factor0': [col for col in df.columns if col.startswith('blue')],\n",
        "    'Factor1': [col for col in df.columns if col.startswith('green')],\n",
        "    'Factor2': [col for col in df.columns if col.startswith('purple')],\n",
        "    'Factor3': [col for col in df.columns if col.startswith('red')],\n",
        "    'Factor4': [col for col in df.columns if col.startswith('q')]\n",
        "}\n",
        "\n",
        "# Map factor names to column indices\n",
        "factor_indices = {}\n",
        "for factor_name, columns in factor_columns.items():\n",
        "    indices = [df.columns.get_loc(col) for col in columns]\n",
        "    factor_indices[factor_name] = indices\n",
        "\n",
        "# Create true labels for variables\n",
        "n_features = df.shape[1]\n",
        "true_labels = np.full(n_features, -1)  # Initialize with -1\n",
        "\n",
        "factor_names = ['Factor0', 'Factor1', 'Factor2', 'Factor3', 'Factor4']\n",
        "factor_name_to_index = {name: idx for idx, name in enumerate(factor_names)}\n",
        "\n",
        "for factor_name, indices in factor_indices.items():\n",
        "    factor_idx = factor_name_to_index[factor_name]\n",
        "    true_labels[indices] = factor_idx\n",
        "\n",
        "# Ensure all variables have been assigned\n",
        "assert np.all(true_labels >= 0), \"Some variables have not been assigned a true label\"\n",
        "\n",
        "\n",
        "# Compute the Adjusted Rand Index\n",
        "ari = adjusted_rand_score(true_labels, predicted_labels)\n",
        "print(f'\\nAdjusted Rand Index (ARI): {ari:.4f}')\n"
      ],
      "metadata": {
        "colab": {
          "base_uri": "https://localhost:8080/"
        },
        "id": "kV9ibAeh4NZt",
        "outputId": "e90dba11-a430-4655-9bf2-ab34cb3f432b"
      },
      "execution_count": null,
      "outputs": [
        {
          "output_type": "stream",
          "name": "stdout",
          "text": [
            "\n",
            "Adjusted Rand Index (ARI): 0.6864\n"
          ]
        }
      ]
    },
    {
      "cell_type": "code",
      "source": [
        "import pandas as pd\n",
        "import numpy as np\n",
        "import torch\n",
        "import torch.nn.functional as F\n",
        "import matplotlib.pyplot as plt\n",
        "import seaborn as sns\n",
        "from sklearn.metrics import adjusted_rand_score\n",
        "\n",
        "# Extract the decoder weights\n",
        "decoder_weights = model.decoder.weight.data.numpy()  # Shape: (input_dim, latent_dim)\n",
        "\n",
        "# Compute the attention matrix\n",
        "abs_decoder_weights = np.abs(decoder_weights)  # Take absolute values\n",
        "\n",
        "# Convert to tensor for softmax computation\n",
        "abs_decoder_weights_tensor = torch.tensor(abs_decoder_weights, dtype=torch.float32)\n",
        "\n",
        "# Apply softmax row-wise (over latent_dim axis)\n",
        "attention_matrix_tensor = F.softmax(abs_decoder_weights_tensor, dim=1)  # Shape: (input_dim, latent_dim)\n",
        "\n",
        "# Convert back to NumPy array\n",
        "attention_matrix = attention_matrix_tensor.numpy()  # Shape: (input_dim, latent_dim)\n",
        "\n",
        "# Transpose the attention matrix to have shape (latent_dim, input_dim)\n",
        "attention_matrix_transposed = attention_matrix.T  # Shape: (latent_dim, input_dim)\n",
        "\n",
        "# Prepare labels for observed variables and latent factors\n",
        "observed_variable_names = df.columns.tolist()  # List of observed variable names (length: input_dim)\n",
        "latent_factor_names = [f'Latent {i}' for i in range(latent_dim)]  # Latent factor names (length: latent_dim)\n",
        "\n",
        "# Create a DataFrame for visualization with latent factors as rows and observed variables as columns\n",
        "attention_df = pd.DataFrame(\n",
        "    attention_matrix_transposed,\n",
        "    index=latent_factor_names,\n",
        "    columns=observed_variable_names\n",
        ")\n",
        "\n",
        "# Plot the attention matrix heatmap with observed variables on the x-axis and latent factors on the y-axis\n",
        "plt.figure(figsize=(20, 5))  # Adjusted figure size for better visualization\n",
        "sns.heatmap(\n",
        "    attention_df,\n",
        "    cmap='viridis',\n",
        "    linewidths=0.5,\n",
        "    annot=False,\n",
        "    cbar=True\n",
        ")\n",
        "plt.title('Attention Matrix Heatmap', fontsize=16)\n",
        "plt.xlabel('Observed Variables', fontsize=14)\n",
        "plt.ylabel('Latent Factors', fontsize=14)\n",
        "plt.xticks(rotation=90)  # Rotate x-axis labels if necessary\n",
        "plt.tight_layout()\n",
        "plt.show()"
      ],
      "metadata": {
        "id": "bZ2Z7Lnc5FX8",
        "colab": {
          "base_uri": "https://localhost:8080/",
          "height": 399
        },
        "outputId": "9d00e5b3-520d-46ac-d9bf-fe9dcabaca95"
      },
      "execution_count": null,
      "outputs": [
        {
          "output_type": "display_data",
          "data": {
            "text/plain": [
              "<Figure size 2000x500 with 2 Axes>"
            ],
            "image/png": "[encoded data removed]"
          },
          "metadata": {}
        }
      ]
    },
    {
      "cell_type": "code",
      "source": [],
      "metadata": {
        "id": "Vma4wBl3LlNc"
      },
      "execution_count": null,
      "outputs": []
    }
  ],
  "metadata": {
    "accelerator": "GPU",
    "colab": {
      "gpuType": "T4",
      "machine_shape": "hm",
      "provenance": []
    },
    "kernelspec": {
      "display_name": "Python 3 (ipykernel)",
      "language": "python",
      "name": "python3"
    },
    "language_info": {
      "codemirror_mode": {
        "name": "ipython",
        "version": 3
      },
      "file_extension": ".py",
      "mimetype": "text/x-python",
      "name": "python",
      "nbconvert_exporter": "python",
      "pygments_lexer": "ipython3",
      "version": "3.10.15"
    }
  },
  "nbformat": 4,
  "nbformat_minor": 0
}